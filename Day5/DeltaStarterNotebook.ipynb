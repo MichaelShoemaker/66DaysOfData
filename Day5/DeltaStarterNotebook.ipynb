{
 "cells": [
  {
   "cell_type": "markdown",
   "id": "communist-lancaster",
   "metadata": {},
   "source": [
    "Create spark session with delta"
   ]
  },
  {
   "cell_type": "code",
   "execution_count": 2,
   "id": "mature-sierra",
   "metadata": {},
   "outputs": [],
   "source": [
    "from pyspark.sql import SparkSession\n",
    "spark = SparkSession.builder \\\n",
    "    .master(\"local[*]\") \\\n",
    "    .appName('test') \\\n",
    "    .config(\"spark.jars.packages\", \"io.delta:delta-core_2.12:0.7.0\") \\\n",
    "    .config(\"spark.sql.extensions\", \"io.delta.sql.DeltaSparkSessionExtension\") \\\n",
    "    .config(\"spark.sql.catalog.spark_catalog\", \"org.apache.spark.sql.delta.catalog.DeltaCatalog\") \\\n",
    "    .config('spark.ui.port', '4050') \\\n",
    "    .getOrCreate()"
   ]
  },
  {
   "cell_type": "markdown",
   "id": "vanilla-haven",
   "metadata": {},
   "source": [
    "Download January and February 2021 Yellow Taxi Data (Uncomment the next two cells to donwload)"
   ]
  },
  {
   "cell_type": "code",
   "execution_count": 96,
   "id": "parallel-separation",
   "metadata": {},
   "outputs": [],
   "source": [
    "#!wget https://s3.amazonaws.com/nyc-tlc/trip+data/yellow_tripdata_2021-01.parquet"
   ]
  },
  {
   "cell_type": "code",
   "execution_count": 97,
   "id": "wireless-spread",
   "metadata": {},
   "outputs": [],
   "source": [
    "#!wget https://s3.amazonaws.com/nyc-tlc/trip+data/yellow_tripdata_2021-02.parquet"
   ]
  },
  {
   "cell_type": "markdown",
   "id": "infectious-venezuela",
   "metadata": {},
   "source": [
    "Read in the first dataset and print the schema"
   ]
  },
  {
   "cell_type": "code",
   "execution_count": 43,
   "id": "little-science",
   "metadata": {},
   "outputs": [],
   "source": [
    "df = spark.read.parquet('yellow_tripdata_2021-01.parquet')"
   ]
  },
  {
   "cell_type": "code",
   "execution_count": 44,
   "id": "veterinary-mustang",
   "metadata": {},
   "outputs": [
    {
     "name": "stdout",
     "output_type": "stream",
     "text": [
      "root\n",
      " |-- VendorID: long (nullable = true)\n",
      " |-- tpep_pickup_datetime: timestamp (nullable = true)\n",
      " |-- tpep_dropoff_datetime: timestamp (nullable = true)\n",
      " |-- passenger_count: double (nullable = true)\n",
      " |-- trip_distance: double (nullable = true)\n",
      " |-- RatecodeID: double (nullable = true)\n",
      " |-- store_and_fwd_flag: string (nullable = true)\n",
      " |-- PULocationID: long (nullable = true)\n",
      " |-- DOLocationID: long (nullable = true)\n",
      " |-- payment_type: long (nullable = true)\n",
      " |-- fare_amount: double (nullable = true)\n",
      " |-- extra: double (nullable = true)\n",
      " |-- mta_tax: double (nullable = true)\n",
      " |-- tip_amount: double (nullable = true)\n",
      " |-- tolls_amount: double (nullable = true)\n",
      " |-- improvement_surcharge: double (nullable = true)\n",
      " |-- total_amount: double (nullable = true)\n",
      " |-- congestion_surcharge: double (nullable = true)\n",
      " |-- airport_fee: double (nullable = true)\n",
      "\n"
     ]
    }
   ],
   "source": [
    "df.printSchema()"
   ]
  },
  {
   "cell_type": "markdown",
   "id": "innocent-jones",
   "metadata": {},
   "source": [
    "Create a delta database and table using the schema printed above as the schema for the table"
   ]
  },
  {
   "cell_type": "code",
   "execution_count": 46,
   "id": "digital-affairs",
   "metadata": {},
   "outputs": [
    {
     "data": {
      "text/plain": [
       "DataFrame[]"
      ]
     },
     "execution_count": 46,
     "metadata": {},
     "output_type": "execute_result"
    }
   ],
   "source": [
    "delta_dir = ('./output/delta')\n",
    "spark.sql('CREATE DATABASE IF NOT EXISTS RIDES')\n",
    "\n",
    "spark.sql('''\n",
    "    CREATE TABLE IF NOT EXISTS RIDES.YELLOW_TAXI(\n",
    "         VendorID long,\n",
    "         tpep_pickup_datetime timestamp,\n",
    "         tpep_dropoff_datetime timestamp,\n",
    "         passenger_count double,\n",
    "         trip_distance double,\n",
    "         RatecodeID double,\n",
    "         store_and_fwd_flag string,\n",
    "         PULocationID long,\n",
    "         DOLocationID long,\n",
    "         payment_type long,\n",
    "         fare_amount double,\n",
    "         extra double,\n",
    "         mta_tax double,\n",
    "         tip_amount double,\n",
    "         tolls_amount double,\n",
    "         improvement_surcharge double,\n",
    "         total_amount double,\n",
    "         congestion_surcharge double,\n",
    "         airport_fee double\n",
    "    ) USING DELTA\n",
    "    LOCATION \"{0}\"\n",
    "    '''.format(delta_dir)\n",
    ")"
   ]
  },
  {
   "cell_type": "markdown",
   "id": "iraqi-standing",
   "metadata": {},
   "source": [
    "Create a table from the dataframe created by the January 2021 data"
   ]
  },
  {
   "cell_type": "code",
   "execution_count": 47,
   "id": "centered-picnic",
   "metadata": {},
   "outputs": [],
   "source": [
    "df.createOrReplaceTempView('load_table')"
   ]
  },
  {
   "cell_type": "markdown",
   "id": "introductory-fundamentals",
   "metadata": {},
   "source": [
    "Check if the VendorID tpep_pickup_datetime, tpep_dropoff_datetime, PULocationID and DOLocationID match records\n",
    "already in the table. If they are not present, insert them.<br>\n",
    "***NOTE*** I made the below into a function so that I can simple place new date into a TempView called \"load_table and then call the function ```update()```"
   ]
  },
  {
   "cell_type": "code",
   "execution_count": 48,
   "id": "acoustic-montana",
   "metadata": {},
   "outputs": [],
   "source": [
    "def update():\n",
    "    spark.sql(\"\"\"MERGE INTO RIDES.YELLOW_TAXI\n",
    "    USING load_table\n",
    "       ON  RIDES.YELLOW_TAXI.VendorID = load_table.VendorID and\n",
    "           RIDES.YELLOW_TAXI.tpep_pickup_datetime = load_table.tpep_pickup_datetime and\n",
    "           RIDES.YELLOW_TAXI.tpep_dropoff_datetime = load_table.tpep_dropoff_datetime and\n",
    "           RIDES.YELLOW_TAXI.PULocationID = load_table.PULocationID and\n",
    "           RIDES.YELLOW_TAXI.DOLocationID = load_table.DOLocationID \n",
    "     WHEN NOT MATCHED THEN\n",
    "          INSERT (VendorID,\n",
    "            tpep_pickup_datetime,\n",
    "            tpep_dropoff_datetime,\n",
    "            passenger_count,\n",
    "            trip_distance,\n",
    "            RatecodeID,\n",
    "            store_and_fwd_flag,\n",
    "            PULocationID,\n",
    "            DOLocationID,\n",
    "            payment_type,\n",
    "            fare_amount,\n",
    "            extra,\n",
    "            mta_tax,\n",
    "            tip_amount,\n",
    "            tolls_amount,\n",
    "            improvement_surcharge,\n",
    "            total_amount,\n",
    "            congestion_surcharge,\n",
    "            airport_fee) VALUES (VendorID,\n",
    "            tpep_pickup_datetime,\n",
    "            tpep_dropoff_datetime,\n",
    "            passenger_count,\n",
    "            trip_distance,\n",
    "            RatecodeID,\n",
    "            store_and_fwd_flag,\n",
    "            PULocationID,\n",
    "            DOLocationID,\n",
    "            payment_type,\n",
    "            fare_amount,\n",
    "            extra,\n",
    "            mta_tax,\n",
    "            tip_amount,\n",
    "            tolls_amount,\n",
    "            improvement_surcharge,\n",
    "            total_amount,\n",
    "            congestion_surcharge,\n",
    "            airport_fee)\n",
    "    \"\"\")"
   ]
  },
  {
   "cell_type": "markdown",
   "id": "important-stephen",
   "metadata": {},
   "source": [
    "Call update and January data should be loaded. Your numbers will most likely be different from that shown below because I messed up a bit loading the data initially."
   ]
  },
  {
   "cell_type": "code",
   "execution_count": null,
   "id": "occasional-cement",
   "metadata": {},
   "outputs": [],
   "source": [
    "update()"
   ]
  },
  {
   "cell_type": "markdown",
   "id": "chronic-nightmare",
   "metadata": {},
   "source": [
    "Get a count of the records. This should match what is currently in the df dataframe and the load_table TempView"
   ]
  },
  {
   "cell_type": "code",
   "execution_count": null,
   "id": "advance-notification",
   "metadata": {},
   "outputs": [],
   "source": [
    "spark.sql(\"SELECT count(1) FROM RIDES.YELLOW_TAXI\").show()"
   ]
  },
  {
   "cell_type": "markdown",
   "id": "identified-closing",
   "metadata": {},
   "source": [
    "Read in the February data into the load_table"
   ]
  },
  {
   "cell_type": "code",
   "execution_count": 98,
   "id": "applied-springfield",
   "metadata": {},
   "outputs": [],
   "source": [
    "spark.read.parquet('yellow_tripdata_2021-01.parquet').createOrReplaceTempView('load_table')"
   ]
  },
  {
   "cell_type": "markdown",
   "id": "advised-punch",
   "metadata": {},
   "source": [
    "Run the update again"
   ]
  },
  {
   "cell_type": "code",
   "execution_count": 41,
   "id": "exposed-basics",
   "metadata": {},
   "outputs": [],
   "source": [
    "update()"
   ]
  },
  {
   "cell_type": "markdown",
   "id": "normal-aging",
   "metadata": {},
   "source": [
    "Now the cound should include January and February data excluding any duplicates as specified in the merge statment in the update function"
   ]
  },
  {
   "cell_type": "code",
   "execution_count": 99,
   "id": "outstanding-healing",
   "metadata": {},
   "outputs": [],
   "source": [
    "spark.sql(\"SELECT count(1) FROM RIDES.YELLOW_TAXI\").show()"
   ]
  },
  {
   "cell_type": "markdown",
   "id": "relative-duration",
   "metadata": {},
   "source": [
    "Check the history of the table"
   ]
  },
  {
   "cell_type": "code",
   "execution_count": 50,
   "id": "bottom-syntax",
   "metadata": {},
   "outputs": [],
   "source": [
    "from delta.tables import *\n",
    "\n",
    "deltaTable = DeltaTable.forPath(spark, './output/delta')\n",
    "\n",
    "fullHistoryDF = deltaTable.history()   "
   ]
  },
  {
   "cell_type": "code",
   "execution_count": 100,
   "id": "brown-tiffany",
   "metadata": {},
   "outputs": [],
   "source": [
    "fullHistoryDF.show()"
   ]
  },
  {
   "cell_type": "markdown",
   "id": "planned-numbers",
   "metadata": {},
   "source": [
    "Or another way to see the history. In this case, just version is selected."
   ]
  },
  {
   "cell_type": "code",
   "execution_count": 74,
   "id": "cellular-bahrain",
   "metadata": {},
   "outputs": [
    {
     "name": "stdout",
     "output_type": "stream",
     "text": [
      "+-------+\n",
      "|version|\n",
      "+-------+\n",
      "|      3|\n",
      "|      2|\n",
      "|      1|\n",
      "|      0|\n",
      "+-------+\n",
      "\n"
     ]
    }
   ],
   "source": [
    "spark.sql(\"DESCRIBE HISTORY './output/delta/'\").select('version').show()"
   ]
  },
  {
   "cell_type": "markdown",
   "id": "bright-tribune",
   "metadata": {},
   "source": [
    "Not sure why the below query doesn't work. What the heck Databricks!?"
   ]
  },
  {
   "cell_type": "code",
   "execution_count": 101,
   "id": "lesbian-citizenship",
   "metadata": {},
   "outputs": [],
   "source": [
    "#spark.sql(\"SELECT * FROM RIDES.YELLOW_TAXI VERSION AS OF 0\")"
   ]
  },
  {
   "cell_type": "markdown",
   "id": "diagnostic-integration",
   "metadata": {},
   "source": [
    "But we CAN read in specific versions with the syntax below. "
   ]
  },
  {
   "cell_type": "code",
   "execution_count": 88,
   "id": "clean-flexibility",
   "metadata": {},
   "outputs": [],
   "source": [
    "test1 = spark.read.format(\"delta\").option(\"versionAsOf\", \"0\").load(\"./output/delta\")"
   ]
  },
  {
   "cell_type": "code",
   "execution_count": 89,
   "id": "separated-cargo",
   "metadata": {},
   "outputs": [
    {
     "data": {
      "text/plain": [
       "0"
      ]
     },
     "execution_count": 89,
     "metadata": {},
     "output_type": "execute_result"
    }
   ],
   "source": [
    "test1.count()"
   ]
  },
  {
   "cell_type": "code",
   "execution_count": 90,
   "id": "tribal-mission",
   "metadata": {},
   "outputs": [],
   "source": [
    "test2 = spark.read.format(\"delta\").option(\"versionAsOf\", \"1\").load(\"./output/delta\")"
   ]
  },
  {
   "cell_type": "code",
   "execution_count": 91,
   "id": "forced-viking",
   "metadata": {},
   "outputs": [
    {
     "data": {
      "text/plain": [
       "1371709"
      ]
     },
     "execution_count": 91,
     "metadata": {},
     "output_type": "execute_result"
    }
   ],
   "source": [
    "test2.count()"
   ]
  },
  {
   "cell_type": "code",
   "execution_count": 94,
   "id": "abandoned-password",
   "metadata": {},
   "outputs": [],
   "source": [
    "test3 = spark.read.format(\"delta\").option(\"versionAsOf\", \"3\").load(\"./output/delta\")"
   ]
  },
  {
   "cell_type": "code",
   "execution_count": 95,
   "id": "controlling-central",
   "metadata": {},
   "outputs": [
    {
     "data": {
      "text/plain": [
       "2741478"
      ]
     },
     "execution_count": 95,
     "metadata": {},
     "output_type": "execute_result"
    }
   ],
   "source": [
    "test3.count()"
   ]
  },
  {
   "cell_type": "code",
   "execution_count": null,
   "id": "communist-release",
   "metadata": {},
   "outputs": [],
   "source": []
  }
 ],
 "metadata": {
  "kernelspec": {
   "display_name": "Python 3",
   "language": "python",
   "name": "python3"
  },
  "language_info": {
   "codemirror_mode": {
    "name": "ipython",
    "version": 3
   },
   "file_extension": ".py",
   "mimetype": "text/x-python",
   "name": "python",
   "nbconvert_exporter": "python",
   "pygments_lexer": "ipython3",
   "version": "3.8.10"
  }
 },
 "nbformat": 4,
 "nbformat_minor": 5
}
