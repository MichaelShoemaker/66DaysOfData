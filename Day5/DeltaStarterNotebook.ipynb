{
 "cells": [
  {
   "cell_type": "code",
   "execution_count": 2,
   "id": "nasty-clearing",
   "metadata": {},
   "outputs": [],
   "source": [
    "from pyspark.sql import SparkSession\n",
    "spark = SparkSession.builder \\\n",
    "    .master(\"local[*]\") \\\n",
    "    .appName('test') \\\n",
    "    .config(\"spark.jars.packages\", \"io.delta:delta-core_2.12:0.7.0\") \\\n",
    "    .config(\"spark.sql.extensions\", \"io.delta.sql.DeltaSparkSessionExtension\") \\\n",
    "    .config(\"spark.sql.catalog.spark_catalog\", \"org.apache.spark.sql.delta.catalog.DeltaCatalog\") \\\n",
    "    .config('spark.ui.port', '4050') \\\n",
    "    .getOrCreate()"
   ]
  },
  {
   "cell_type": "code",
   "execution_count": 3,
   "id": "raised-pleasure",
   "metadata": {},
   "outputs": [],
   "source": []
  },
  {
   "cell_type": "code",
   "execution_count": 4,
   "id": "alleged-mason",
   "metadata": {},
   "outputs": [
    {
     "name": "stdout",
     "output_type": "stream",
     "text": [
      "--2022-06-12 18:18:52--  https://s3.amazonaws.com/nyc-tlc/trip+data/yellow_tripdata_2021-01.parquet\n",
      "Resolving s3.amazonaws.com (s3.amazonaws.com)... 54.231.200.24\n",
      "Connecting to s3.amazonaws.com (s3.amazonaws.com)|54.231.200.24|:443... connected.\n",
      "HTTP request sent, awaiting response... 200 OK\n",
      "Length: 21686067 (21M) [application/x-www-form-urlencoded]\n",
      "Saving to: ‘yellow_tripdata_2021-01.parquet’\n",
      "\n",
      "yellow_tripdata_202 100%[===================>]  20.68M  5.44MB/s    in 4.7s    \n",
      "\n",
      "2022-06-12 18:18:57 (4.36 MB/s) - ‘yellow_tripdata_2021-01.parquet’ saved [21686067/21686067]\n",
      "\n"
     ]
    }
   ],
   "source": [
    "!wget https://s3.amazonaws.com/nyc-tlc/trip+data/yellow_tripdata_2021-01.parquet"
   ]
  },
  {
   "cell_type": "code",
   "execution_count": 5,
   "id": "internal-filename",
   "metadata": {},
   "outputs": [
    {
     "name": "stdout",
     "output_type": "stream",
     "text": [
      "--2022-06-12 18:19:05--  https://s3.amazonaws.com/nyc-tlc/trip+data/yellow_tripdata_2021-02.parquet\n",
      "Resolving s3.amazonaws.com (s3.amazonaws.com)... 54.231.200.24\n",
      "Connecting to s3.amazonaws.com (s3.amazonaws.com)|54.231.200.24|:443... connected.\n",
      "HTTP request sent, awaiting response... 200 OK\n",
      "Length: 21777258 (21M) [application/x-www-form-urlencoded]\n",
      "Saving to: ‘yellow_tripdata_2021-02.parquet’\n",
      "\n",
      "yellow_tripdata_202 100%[===================>]  20.77M  8.19MB/s    in 2.5s    \n",
      "\n",
      "2022-06-12 18:19:08 (8.19 MB/s) - ‘yellow_tripdata_2021-02.parquet’ saved [21777258/21777258]\n",
      "\n"
     ]
    }
   ],
   "source": [
    "!wget https://s3.amazonaws.com/nyc-tlc/trip+data/yellow_tripdata_2021-02.parquet"
   ]
  },
  {
   "cell_type": "code",
   "execution_count": 43,
   "id": "killing-hydrogen",
   "metadata": {},
   "outputs": [],
   "source": [
    "df = spark.read.parquet('yellow_tripdata_2021-01.parquet')"
   ]
  },
  {
   "cell_type": "code",
   "execution_count": 44,
   "id": "occupied-tournament",
   "metadata": {},
   "outputs": [
    {
     "name": "stdout",
     "output_type": "stream",
     "text": [
      "root\n",
      " |-- VendorID: long (nullable = true)\n",
      " |-- tpep_pickup_datetime: timestamp (nullable = true)\n",
      " |-- tpep_dropoff_datetime: timestamp (nullable = true)\n",
      " |-- passenger_count: double (nullable = true)\n",
      " |-- trip_distance: double (nullable = true)\n",
      " |-- RatecodeID: double (nullable = true)\n",
      " |-- store_and_fwd_flag: string (nullable = true)\n",
      " |-- PULocationID: long (nullable = true)\n",
      " |-- DOLocationID: long (nullable = true)\n",
      " |-- payment_type: long (nullable = true)\n",
      " |-- fare_amount: double (nullable = true)\n",
      " |-- extra: double (nullable = true)\n",
      " |-- mta_tax: double (nullable = true)\n",
      " |-- tip_amount: double (nullable = true)\n",
      " |-- tolls_amount: double (nullable = true)\n",
      " |-- improvement_surcharge: double (nullable = true)\n",
      " |-- total_amount: double (nullable = true)\n",
      " |-- congestion_surcharge: double (nullable = true)\n",
      " |-- airport_fee: double (nullable = true)\n",
      "\n"
     ]
    }
   ],
   "source": [
    "df.printSchema()"
   ]
  },
  {
   "cell_type": "code",
   "execution_count": 46,
   "id": "commercial-separate",
   "metadata": {},
   "outputs": [
    {
     "data": {
      "text/plain": [
       "DataFrame[]"
      ]
     },
     "execution_count": 46,
     "metadata": {},
     "output_type": "execute_result"
    }
   ],
   "source": [
    "delta_dir = ('./output/delta')\n",
    "spark.sql('CREATE DATABASE IF NOT EXISTS RIDES')\n",
    "\n",
    "spark.sql('''\n",
    "    CREATE TABLE IF NOT EXISTS RIDES.YELLOW_TAXI(\n",
    "         VendorID long,\n",
    "         tpep_pickup_datetime timestamp,\n",
    "         tpep_dropoff_datetime timestamp,\n",
    "         passenger_count double,\n",
    "         trip_distance double,\n",
    "         RatecodeID double,\n",
    "         store_and_fwd_flag string,\n",
    "         PULocationID long,\n",
    "         DOLocationID long,\n",
    "         payment_type long,\n",
    "         fare_amount double,\n",
    "         extra double,\n",
    "         mta_tax double,\n",
    "         tip_amount double,\n",
    "         tolls_amount double,\n",
    "         improvement_surcharge double,\n",
    "         total_amount double,\n",
    "         congestion_surcharge double,\n",
    "         airport_fee double\n",
    "    ) USING DELTA\n",
    "    LOCATION \"{0}\"\n",
    "    '''.format(delta_dir)\n",
    ")"
   ]
  },
  {
   "cell_type": "code",
   "execution_count": 47,
   "id": "changing-lucas",
   "metadata": {},
   "outputs": [],
   "source": [
    "df.createOrReplaceTempView('load_table')"
   ]
  },
  {
   "cell_type": "code",
   "execution_count": 48,
   "id": "floppy-avatar",
   "metadata": {},
   "outputs": [],
   "source": [
    "def update():\n",
    "    spark.sql(\"\"\"MERGE INTO RIDES.YELLOW_TAXI\n",
    "    USING load_table\n",
    "       ON  RIDES.YELLOW_TAXI.VendorID = load_table.VendorID and\n",
    "           RIDES.YELLOW_TAXI.tpep_pickup_datetime = load_table.tpep_pickup_datetime and\n",
    "           RIDES.YELLOW_TAXI.tpep_dropoff_datetime = load_table.tpep_dropoff_datetime and\n",
    "           RIDES.YELLOW_TAXI.PULocationID = load_table.PULocationID and\n",
    "           RIDES.YELLOW_TAXI.DOLocationID = load_table.DOLocationID \n",
    "     WHEN NOT MATCHED THEN\n",
    "          INSERT (VendorID,\n",
    "            tpep_pickup_datetime,\n",
    "            tpep_dropoff_datetime,\n",
    "            passenger_count,\n",
    "            trip_distance,\n",
    "            RatecodeID,\n",
    "            store_and_fwd_flag,\n",
    "            PULocationID,\n",
    "            DOLocationID,\n",
    "            payment_type,\n",
    "            fare_amount,\n",
    "            extra,\n",
    "            mta_tax,\n",
    "            tip_amount,\n",
    "            tolls_amount,\n",
    "            improvement_surcharge,\n",
    "            total_amount,\n",
    "            congestion_surcharge,\n",
    "            airport_fee) VALUES (VendorID,\n",
    "            tpep_pickup_datetime,\n",
    "            tpep_dropoff_datetime,\n",
    "            passenger_count,\n",
    "            trip_distance,\n",
    "            RatecodeID,\n",
    "            store_and_fwd_flag,\n",
    "            PULocationID,\n",
    "            DOLocationID,\n",
    "            payment_type,\n",
    "            fare_amount,\n",
    "            extra,\n",
    "            mta_tax,\n",
    "            tip_amount,\n",
    "            tolls_amount,\n",
    "            improvement_surcharge,\n",
    "            total_amount,\n",
    "            congestion_surcharge,\n",
    "            airport_fee)\n",
    "    \"\"\")"
   ]
  },
  {
   "cell_type": "code",
   "execution_count": null,
   "id": "monthly-field",
   "metadata": {},
   "outputs": [],
   "source": []
  },
  {
   "cell_type": "code",
   "execution_count": 49,
   "id": "tender-invalid",
   "metadata": {},
   "outputs": [
    {
     "name": "stdout",
     "output_type": "stream",
     "text": [
      "+--------+\n",
      "|count(1)|\n",
      "+--------+\n",
      "| 2741478|\n",
      "+--------+\n",
      "\n"
     ]
    }
   ],
   "source": [
    "spark.sql(\"SELECT count(1) FROM RIDES.YELLOW_TAXI\").show()"
   ]
  },
  {
   "cell_type": "code",
   "execution_count": 40,
   "id": "expanded-covering",
   "metadata": {},
   "outputs": [],
   "source": [
    "spark.read.parquet('yellow_tripdata_2021-01.parquet').createOrReplaceTempView('load_table')"
   ]
  },
  {
   "cell_type": "code",
   "execution_count": 41,
   "id": "entertaining-outline",
   "metadata": {},
   "outputs": [],
   "source": [
    "update()"
   ]
  },
  {
   "cell_type": "code",
   "execution_count": 42,
   "id": "applicable-seafood",
   "metadata": {},
   "outputs": [
    {
     "name": "stdout",
     "output_type": "stream",
     "text": [
      "+--------+\n",
      "|count(1)|\n",
      "+--------+\n",
      "| 2741478|\n",
      "+--------+\n",
      "\n"
     ]
    }
   ],
   "source": [
    "spark.sql(\"SELECT count(1) FROM RIDES.YELLOW_TAXI\").show()"
   ]
  },
  {
   "cell_type": "code",
   "execution_count": 39,
   "id": "demanding-receiver",
   "metadata": {},
   "outputs": [
    {
     "name": "stdout",
     "output_type": "stream",
     "text": [
      "+--------+\n",
      "|count(1)|\n",
      "+--------+\n",
      "| 1369769|\n",
      "+--------+\n",
      "\n"
     ]
    }
   ],
   "source": [
    "spark.sql(\"SELECT COUNT(1) FROM load_table\").show()"
   ]
  },
  {
   "cell_type": "code",
   "execution_count": 50,
   "id": "bridal-bottle",
   "metadata": {},
   "outputs": [],
   "source": [
    "from delta.tables import *\n",
    "\n",
    "deltaTable = DeltaTable.forPath(spark, './output/delta')\n",
    "\n",
    "fullHistoryDF = deltaTable.history()    # get the full history of the table"
   ]
  },
  {
   "cell_type": "code",
   "execution_count": 53,
   "id": "rough-overview",
   "metadata": {},
   "outputs": [
    {
     "name": "stdout",
     "output_type": "stream",
     "text": [
      "+-------+--------------------+------+--------+------------+--------------------+----+--------+---------+-----------+--------------+-------------+--------------------+------------+\n",
      "|version|           timestamp|userId|userName|   operation| operationParameters| job|notebook|clusterId|readVersion|isolationLevel|isBlindAppend|    operationMetrics|userMetadata|\n",
      "+-------+--------------------+------+--------+------------+--------------------+----+--------+---------+-----------+--------------+-------------+--------------------+------------+\n",
      "|      3|2022-06-12 18:58:...|  null|    null|       MERGE|[predicate -> (((...|null|    null|     null|          2|          null|        false|[numTargetRowsCop...|        null|\n",
      "|      2|2022-06-12 18:57:...|  null|    null|       MERGE|[predicate -> (((...|null|    null|     null|          1|          null|        false|[numTargetRowsCop...|        null|\n",
      "|      1|2022-06-12 18:53:...|  null|    null|       MERGE|[predicate -> (((...|null|    null|     null|          0|          null|        false|[numTargetRowsCop...|        null|\n",
      "|      0|2022-06-12 18:38:...|  null|    null|CREATE TABLE|[isManaged -> fal...|null|    null|     null|       null|          null|         true|                  []|        null|\n",
      "+-------+--------------------+------+--------+------------+--------------------+----+--------+---------+-----------+--------------+-------------+--------------------+------------+\n",
      "\n"
     ]
    }
   ],
   "source": [
    "fullHistoryDF.show()"
   ]
  },
  {
   "cell_type": "code",
   "execution_count": 55,
   "id": "billion-laundry",
   "metadata": {},
   "outputs": [
    {
     "data": {
      "text/plain": [
       "0"
      ]
     },
     "execution_count": 55,
     "metadata": {},
     "output_type": "execute_result"
    }
   ],
   "source": [
    "deltaTable.history(0).count()"
   ]
  },
  {
   "cell_type": "code",
   "execution_count": 56,
   "id": "impossible-bronze",
   "metadata": {},
   "outputs": [
    {
     "data": {
      "text/plain": [
       "1"
      ]
     },
     "execution_count": 56,
     "metadata": {},
     "output_type": "execute_result"
    }
   ],
   "source": [
    "deltaTable.history(1).count()"
   ]
  },
  {
   "cell_type": "code",
   "execution_count": 57,
   "id": "affected-linux",
   "metadata": {},
   "outputs": [
    {
     "data": {
      "text/plain": [
       "2"
      ]
     },
     "execution_count": 57,
     "metadata": {},
     "output_type": "execute_result"
    }
   ],
   "source": [
    "deltaTable.history(2).count()"
   ]
  },
  {
   "cell_type": "code",
   "execution_count": 63,
   "id": "empirical-underwear",
   "metadata": {},
   "outputs": [
    {
     "name": "stdout",
     "output_type": "stream",
     "text": [
      "+-------+--------------------+------+--------+------------+--------------------+----+--------+---------+-----------+--------------+-------------+--------------------+------------+\n",
      "|version|           timestamp|userId|userName|   operation| operationParameters| job|notebook|clusterId|readVersion|isolationLevel|isBlindAppend|    operationMetrics|userMetadata|\n",
      "+-------+--------------------+------+--------+------------+--------------------+----+--------+---------+-----------+--------------+-------------+--------------------+------------+\n",
      "|      3|2022-06-12 18:58:...|  null|    null|       MERGE|[predicate -> (((...|null|    null|     null|          2|          null|        false|[numTargetRowsCop...|        null|\n",
      "|      2|2022-06-12 18:57:...|  null|    null|       MERGE|[predicate -> (((...|null|    null|     null|          1|          null|        false|[numTargetRowsCop...|        null|\n",
      "|      1|2022-06-12 18:53:...|  null|    null|       MERGE|[predicate -> (((...|null|    null|     null|          0|          null|        false|[numTargetRowsCop...|        null|\n",
      "|      0|2022-06-12 18:38:...|  null|    null|CREATE TABLE|[isManaged -> fal...|null|    null|     null|       null|          null|         true|                  []|        null|\n",
      "+-------+--------------------+------+--------+------------+--------------------+----+--------+---------+-----------+--------------+-------------+--------------------+------------+\n",
      "\n"
     ]
    }
   ],
   "source": [
    "spark.sql(\"DESCRIBE HISTORY './output/delta/'\").show()"
   ]
  },
  {
   "cell_type": "code",
   "execution_count": 68,
   "id": "devoted-alberta",
   "metadata": {},
   "outputs": [
    {
     "ename": "ParseException",
     "evalue": "\nextraneous input 'AS' expecting {<EOF>, ';'}(line 1, pos 41)\n\n== SQL ==\nSELECT * FROM RIDES.YELLOW_TAXI VERSION; AS OF 0\n-----------------------------------------^^^\n",
     "output_type": "error",
     "traceback": [
      "\u001b[0;31m---------------------------------------------------------------------------\u001b[0m",
      "\u001b[0;31mParseException\u001b[0m                            Traceback (most recent call last)",
      "\u001b[0;32m<ipython-input-68-cf4499b24ff0>\u001b[0m in \u001b[0;36m<module>\u001b[0;34m\u001b[0m\n\u001b[0;32m----> 1\u001b[0;31m \u001b[0mspark\u001b[0m\u001b[0;34m.\u001b[0m\u001b[0msql\u001b[0m\u001b[0;34m(\u001b[0m\u001b[0;34m'SELECT * FROM RIDES.YELLOW_TAXI VERSION; AS OF 0'\u001b[0m\u001b[0;34m)\u001b[0m\u001b[0;34m\u001b[0m\u001b[0;34m\u001b[0m\u001b[0m\n\u001b[0m",
      "\u001b[0;32m/usr/local/spark/python/pyspark/sql/session.py\u001b[0m in \u001b[0;36msql\u001b[0;34m(self, sqlQuery)\u001b[0m\n\u001b[1;32m    647\u001b[0m         \u001b[0;34m[\u001b[0m\u001b[0mRow\u001b[0m\u001b[0;34m(\u001b[0m\u001b[0mf1\u001b[0m\u001b[0;34m=\u001b[0m\u001b[0;36m1\u001b[0m\u001b[0;34m,\u001b[0m \u001b[0mf2\u001b[0m\u001b[0;34m=\u001b[0m\u001b[0;34mu'row1'\u001b[0m\u001b[0;34m)\u001b[0m\u001b[0;34m,\u001b[0m \u001b[0mRow\u001b[0m\u001b[0;34m(\u001b[0m\u001b[0mf1\u001b[0m\u001b[0;34m=\u001b[0m\u001b[0;36m2\u001b[0m\u001b[0;34m,\u001b[0m \u001b[0mf2\u001b[0m\u001b[0;34m=\u001b[0m\u001b[0;34mu'row2'\u001b[0m\u001b[0;34m)\u001b[0m\u001b[0;34m,\u001b[0m \u001b[0mRow\u001b[0m\u001b[0;34m(\u001b[0m\u001b[0mf1\u001b[0m\u001b[0;34m=\u001b[0m\u001b[0;36m3\u001b[0m\u001b[0;34m,\u001b[0m \u001b[0mf2\u001b[0m\u001b[0;34m=\u001b[0m\u001b[0;34mu'row3'\u001b[0m\u001b[0;34m)\u001b[0m\u001b[0;34m]\u001b[0m\u001b[0;34m\u001b[0m\u001b[0;34m\u001b[0m\u001b[0m\n\u001b[1;32m    648\u001b[0m         \"\"\"\n\u001b[0;32m--> 649\u001b[0;31m         \u001b[0;32mreturn\u001b[0m \u001b[0mDataFrame\u001b[0m\u001b[0;34m(\u001b[0m\u001b[0mself\u001b[0m\u001b[0;34m.\u001b[0m\u001b[0m_jsparkSession\u001b[0m\u001b[0;34m.\u001b[0m\u001b[0msql\u001b[0m\u001b[0;34m(\u001b[0m\u001b[0msqlQuery\u001b[0m\u001b[0;34m)\u001b[0m\u001b[0;34m,\u001b[0m \u001b[0mself\u001b[0m\u001b[0;34m.\u001b[0m\u001b[0m_wrapped\u001b[0m\u001b[0;34m)\u001b[0m\u001b[0;34m\u001b[0m\u001b[0;34m\u001b[0m\u001b[0m\n\u001b[0m\u001b[1;32m    650\u001b[0m \u001b[0;34m\u001b[0m\u001b[0m\n\u001b[1;32m    651\u001b[0m     \u001b[0;34m@\u001b[0m\u001b[0msince\u001b[0m\u001b[0;34m(\u001b[0m\u001b[0;36m2.0\u001b[0m\u001b[0;34m)\u001b[0m\u001b[0;34m\u001b[0m\u001b[0;34m\u001b[0m\u001b[0m\n",
      "\u001b[0;32m/usr/local/spark/python/lib/py4j-0.10.9-src.zip/py4j/java_gateway.py\u001b[0m in \u001b[0;36m__call__\u001b[0;34m(self, *args)\u001b[0m\n\u001b[1;32m   1302\u001b[0m \u001b[0;34m\u001b[0m\u001b[0m\n\u001b[1;32m   1303\u001b[0m         \u001b[0manswer\u001b[0m \u001b[0;34m=\u001b[0m \u001b[0mself\u001b[0m\u001b[0;34m.\u001b[0m\u001b[0mgateway_client\u001b[0m\u001b[0;34m.\u001b[0m\u001b[0msend_command\u001b[0m\u001b[0;34m(\u001b[0m\u001b[0mcommand\u001b[0m\u001b[0;34m)\u001b[0m\u001b[0;34m\u001b[0m\u001b[0;34m\u001b[0m\u001b[0m\n\u001b[0;32m-> 1304\u001b[0;31m         return_value = get_return_value(\n\u001b[0m\u001b[1;32m   1305\u001b[0m             answer, self.gateway_client, self.target_id, self.name)\n\u001b[1;32m   1306\u001b[0m \u001b[0;34m\u001b[0m\u001b[0m\n",
      "\u001b[0;32m/usr/local/spark/python/pyspark/sql/utils.py\u001b[0m in \u001b[0;36mdeco\u001b[0;34m(*a, **kw)\u001b[0m\n\u001b[1;32m    132\u001b[0m                 \u001b[0;31m# Hide where the exception came from that shows a non-Pythonic\u001b[0m\u001b[0;34m\u001b[0m\u001b[0;34m\u001b[0m\u001b[0;34m\u001b[0m\u001b[0m\n\u001b[1;32m    133\u001b[0m                 \u001b[0;31m# JVM exception message.\u001b[0m\u001b[0;34m\u001b[0m\u001b[0;34m\u001b[0m\u001b[0;34m\u001b[0m\u001b[0m\n\u001b[0;32m--> 134\u001b[0;31m                 \u001b[0mraise_from\u001b[0m\u001b[0;34m(\u001b[0m\u001b[0mconverted\u001b[0m\u001b[0;34m)\u001b[0m\u001b[0;34m\u001b[0m\u001b[0;34m\u001b[0m\u001b[0m\n\u001b[0m\u001b[1;32m    135\u001b[0m             \u001b[0;32melse\u001b[0m\u001b[0;34m:\u001b[0m\u001b[0;34m\u001b[0m\u001b[0;34m\u001b[0m\u001b[0m\n\u001b[1;32m    136\u001b[0m                 \u001b[0;32mraise\u001b[0m\u001b[0;34m\u001b[0m\u001b[0;34m\u001b[0m\u001b[0m\n",
      "\u001b[0;32m/usr/local/spark/python/pyspark/sql/utils.py\u001b[0m in \u001b[0;36mraise_from\u001b[0;34m(e)\u001b[0m\n",
      "\u001b[0;31mParseException\u001b[0m: \nextraneous input 'AS' expecting {<EOF>, ';'}(line 1, pos 41)\n\n== SQL ==\nSELECT * FROM RIDES.YELLOW_TAXI VERSION; AS OF 0\n-----------------------------------------^^^\n"
     ]
    }
   ],
   "source": [
    "spark.sql('SELECT * FROM RIDES.YELLOW_TAXI VERSION AS OF 0')"
   ]
  },
  {
   "cell_type": "code",
   "execution_count": null,
   "id": "stylish-hampshire",
   "metadata": {},
   "outputs": [],
   "source": []
  }
 ],
 "metadata": {
  "kernelspec": {
   "display_name": "Python 3",
   "language": "python",
   "name": "python3"
  },
  "language_info": {
   "codemirror_mode": {
    "name": "ipython",
    "version": 3
   },
   "file_extension": ".py",
   "mimetype": "text/x-python",
   "name": "python",
   "nbconvert_exporter": "python",
   "pygments_lexer": "ipython3",
   "version": "3.8.10"
  }
 },
 "nbformat": 4,
 "nbformat_minor": 5
}
